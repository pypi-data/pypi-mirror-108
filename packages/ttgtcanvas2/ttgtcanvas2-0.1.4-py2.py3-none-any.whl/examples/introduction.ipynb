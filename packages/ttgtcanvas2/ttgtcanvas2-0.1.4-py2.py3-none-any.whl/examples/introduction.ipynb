{
 "cells": [
  {
   "cell_type": "markdown",
   "metadata": {},
   "source": [
    "# Introduction"
   ]
  },
  {
   "cell_type": "code",
   "execution_count": 1,
   "metadata": {},
   "outputs": [],
   "source": [
    "%load_ext autoreload\n",
    "\n",
    "%autoreload 1"
   ]
  },
  {
   "cell_type": "code",
   "execution_count": 2,
   "metadata": {},
   "outputs": [],
   "source": [
    "from ttgtcanvas2 import Maze\n",
    "import worlds.test as test"
   ]
  },
  {
   "cell_type": "code",
   "execution_count": 3,
   "metadata": {
    "tags": []
   },
   "outputs": [
    {
     "name": "stdout",
     "output_type": "stream",
     "text": [
      "details\n"
     ]
    },
    {
     "data": {
      "text/html": [
       "<div style='background:#FFFFC8;padding: 10px'> <text style=color:black>Using <code>move()</code>, <code>turn_left()</code>, <code>front_is_clear()</code>, <code>right_is_clear()</code>, <code>at_goal()</code> and the Python keywords <code>if, else, elif, while, not, def</code>, have Reeborg decide on its own how to follow the path so it can go home.\n",
       "<br>--<br><em>En utilisant <code>avance()</code>, <code>tourne_a_gauche()</code>, <code>rien_devant()</code>, <code>rien_a_droite()</code>, <code>au_but()</code> et les mots Python <code>if, else, elif, while, not, def</code>, aidez Reeborg à trouver son chemin par lui-même pour qu'il puisse retourner à sa maison en suivant le sentier.</em></text></div>"
      ],
      "text/plain": [
       "<IPython.core.display.HTML object>"
      ]
     },
     "metadata": {},
     "output_type": "display_data"
    },
    {
     "data": {
      "application/vnd.jupyter.widget-view+json": {
       "model_id": "c693bb7d6a6f425eab52371abb4d5be6",
       "version_major": 2,
       "version_minor": 0
      },
      "text/plain": [
       "Maze()"
      ]
     },
     "metadata": {},
     "output_type": "display_data"
    }
   ],
   "source": [
    "world= test.generate_maze()"
   ]
  },
  {
   "cell_type": "code",
   "execution_count": 4,
   "metadata": {},
   "outputs": [],
   "source": [
    "bot = world.bot()"
   ]
  },
  {
   "cell_type": "code",
   "execution_count": 5,
   "metadata": {},
   "outputs": [],
   "source": [
    "bot.set_trace('red')"
   ]
  },
  {
   "cell_type": "code",
   "execution_count": 21,
   "metadata": {},
   "outputs": [],
   "source": [
    "bot.move()"
   ]
  },
  {
   "cell_type": "code",
   "execution_count": 22,
   "metadata": {},
   "outputs": [],
   "source": [
    "bot.pick()"
   ]
  },
  {
   "cell_type": "code",
   "execution_count": 8,
   "metadata": {},
   "outputs": [
    {
     "data": {
      "text/plain": [
       "1"
      ]
     },
     "execution_count": 8,
     "metadata": {},
     "output_type": "execute_result"
    }
   ],
   "source": [
    "bot.y"
   ]
  },
  {
   "cell_type": "code",
   "execution_count": 24,
   "metadata": {},
   "outputs": [
    {
     "data": {
      "text/html": [
       "<text style=color:green>✓ Reached Final Position: 7,1</text>"
      ],
      "text/plain": [
       "<IPython.core.display.HTML object>"
      ]
     },
     "metadata": {},
     "output_type": "display_data"
    },
    {
     "data": {
      "text/html": [
       "<text style=color:red>✗ Picked beeper at: None,None</text>"
      ],
      "text/plain": [
       "<IPython.core.display.HTML object>"
      ]
     },
     "metadata": {},
     "output_type": "display_data"
    },
    {
     "data": {
      "text/plain": [
       "False"
      ]
     },
     "execution_count": 24,
     "metadata": {},
     "output_type": "execute_result"
    }
   ],
   "source": [
    "world.check()"
   ]
  },
  {
   "cell_type": "code",
   "execution_count": 10,
   "metadata": {},
   "outputs": [],
   "source": [
    "bot.build_wall()"
   ]
  },
  {
   "cell_type": "code",
   "execution_count": 11,
   "metadata": {},
   "outputs": [],
   "source": [
    "cell = bot.cell()"
   ]
  },
  {
   "cell_type": "code",
   "execution_count": 23,
   "metadata": {},
   "outputs": [],
   "source": [
    "bot.turn_left()"
   ]
  },
  {
   "cell_type": "code",
   "execution_count": 50,
   "metadata": {},
   "outputs": [],
   "source": [
    "bot.remove_wall()"
   ]
  },
  {
   "cell_type": "code",
   "execution_count": 37,
   "metadata": {},
   "outputs": [],
   "source": [
    "DEFAULT_ASSET_URL=\"https://totogoto.com/assets/python_project/images/\"\n",
    "DEFAULT_OBJECTS = [\n",
    "    'token', \n",
    "    'triangle', \n",
    "    'square', \n",
    "    'strawberry',\n",
    "    'banana', \n",
    "    'orange', \n",
    "    'apple', \n",
    "    'leaf',\n",
    "    'dandelion',\n",
    "    'carrot',\n",
    "    'tulip',\n",
    "    'daisy',\n",
    "    'star',\n",
    "\n",
    "    'mud',\n",
    "    'gravel',\n",
    "    'pale_grass',\n",
    "    'water',\n",
    "    'ice',\n",
    "    'grass',\n",
    "]\n",
    "\n",
    "\n",
    "DEFAULT_TILE_MAP = {tile: \"{}{}.png\".format(DEFAULT_ASSET_URL, tile) for tile in DEFAULT_OBJECTS }"
   ]
  },
  {
   "cell_type": "code",
   "execution_count": 35,
   "metadata": {},
   "outputs": [],
   "source": [
    "DEFAULT_TILE_MAP = {tile: \"{}{}.png\".format(DEFAULT_ASSET_URL, tile) for tile in DEFAULT_OBJECTS }"
   ]
  },
  {
   "cell_type": "code",
   "execution_count": 38,
   "metadata": {},
   "outputs": [
    {
     "data": {
      "text/plain": [
       "{'token': 'https://totogoto.com/assets/python_project/images/token.png',\n",
       " 'triangle': 'https://totogoto.com/assets/python_project/images/triangle.png',\n",
       " 'square': 'https://totogoto.com/assets/python_project/images/square.png',\n",
       " 'strawberry': 'https://totogoto.com/assets/python_project/images/strawberry.png',\n",
       " 'banana': 'https://totogoto.com/assets/python_project/images/banana.png',\n",
       " 'orange': 'https://totogoto.com/assets/python_project/images/orange.png',\n",
       " 'apple': 'https://totogoto.com/assets/python_project/images/apple.png',\n",
       " 'leaf': 'https://totogoto.com/assets/python_project/images/leaf.png',\n",
       " 'dandelion': 'https://totogoto.com/assets/python_project/images/dandelion.png',\n",
       " 'carrot': 'https://totogoto.com/assets/python_project/images/carrot.png',\n",
       " 'tulip': 'https://totogoto.com/assets/python_project/images/tulip.png',\n",
       " 'daisy': 'https://totogoto.com/assets/python_project/images/daisy.png',\n",
       " 'star': 'https://totogoto.com/assets/python_project/images/star.png',\n",
       " 'mud': 'https://totogoto.com/assets/python_project/images/mud.png',\n",
       " 'gravel': 'https://totogoto.com/assets/python_project/images/gravel.png',\n",
       " 'pale_grass': 'https://totogoto.com/assets/python_project/images/pale_grass.png',\n",
       " 'water': 'https://totogoto.com/assets/python_project/images/water.png',\n",
       " 'ice': 'https://totogoto.com/assets/python_project/images/ice.png',\n",
       " 'grass': 'https://totogoto.com/assets/python_project/images/grass.png'}"
      ]
     },
     "execution_count": 38,
     "metadata": {},
     "output_type": "execute_result"
    }
   ],
   "source": [
    "DEFAULT_TILE_MAP"
   ]
  },
  {
   "cell_type": "code",
   "execution_count": 55,
   "metadata": {},
   "outputs": [],
   "source": [
    "from enum import Enum, IntFlag"
   ]
  },
  {
   "cell_type": "code",
   "execution_count": 75,
   "metadata": {},
   "outputs": [],
   "source": [
    "class WallType(IntFlag):\n",
    "    N = 1\n",
    "    R = 2\n",
    "    G = 4"
   ]
  },
  {
   "cell_type": "code",
   "execution_count": 87,
   "metadata": {},
   "outputs": [
    {
     "data": {
      "text/plain": [
       "<WallType.N: 1>"
      ]
     },
     "execution_count": 87,
     "metadata": {},
     "output_type": "execute_result"
    }
   ],
   "source": [
    " WallType.N | WallType(0)"
   ]
  },
  {
   "cell_type": "code",
   "execution_count": null,
   "metadata": {},
   "outputs": [],
   "source": []
  }
 ],
 "metadata": {
  "kernelspec": {
   "display_name": "Python 3",
   "language": "python",
   "name": "python3"
  },
  "language_info": {
   "codemirror_mode": {
    "name": "ipython",
    "version": 3
   },
   "file_extension": ".py",
   "mimetype": "text/x-python",
   "name": "python",
   "nbconvert_exporter": "python",
   "pygments_lexer": "ipython3",
   "version": "3.8.8"
  }
 },
 "nbformat": 4,
 "nbformat_minor": 4
}
