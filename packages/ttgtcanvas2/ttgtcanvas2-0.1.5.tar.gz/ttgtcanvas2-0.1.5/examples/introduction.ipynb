{
 "cells": [
  {
   "cell_type": "markdown",
   "metadata": {},
   "source": [
    "# Introduction"
   ]
  },
  {
   "cell_type": "code",
   "execution_count": 1,
   "metadata": {},
   "outputs": [],
   "source": [
    "%load_ext autoreload\n",
    "\n",
    "%autoreload 1"
   ]
  },
  {
   "cell_type": "code",
   "execution_count": 2,
   "metadata": {},
   "outputs": [],
   "source": [
    "\n",
    "import worlds.test as test"
   ]
  },
  {
   "cell_type": "code",
   "execution_count": 3,
   "metadata": {},
   "outputs": [],
   "source": [
    "def check(solve):\n",
    "    maze = test.generate_maze()\n",
    "    bot = maze.bot()\n",
    "    bot.set_trace('red')\n",
    "    solve(bot)\n",
    "    return maze\n",
    "    "
   ]
  },
  {
   "cell_type": "code",
   "execution_count": 4,
   "metadata": {},
   "outputs": [
    {
     "data": {
      "text/html": [
       "<div style='background:#FFFFC8;padding: 10px'> <text style=color:black>['<h1>Around the lake</h1>', '<p>Reeborg loves going for walks, ', 'especially when it is around a lake. ', 'The lakes in Reeborg’s neighborhood ', 'are all different sizes of rectangles, ', 'so Reeborg does not know how many ', 'steps it will take to get back to ', 'the start of walk. ', 'Thankfully, Reeborg happens to be ', 'carrying a banana, which you can ', 'tell Reeborg to <code>put()</code> down at the ', 'start of its walk. ', 'Reeborg knows it’s done walking when ', 'it reaches the banana again.</p>', '<p>Use a <code>while</code> statement ', '(looking for the banana object) ', 'and an <code>if/else</code> to have Reeborg ', 'complete his walking adventure. </p>', '<p>Note: Reeborg cannot use a repeat ', 'statement, since it has no idea of the ', 'dimensions of the lake it is walking around.</p>', '<h3>What you need to know</h3>', '<ul><li>The functions <code>move()</code>, <code>turn_left()</code>, and <code>put()</code>.</li>', '<li>Either the test <code>front_is_clear()</code> or <code>wall_in_front()</code>, and <code>object_here()</code>.</li>', '<li>How to use a <code>while</code> loop and an <code>if/else</code> clause, and the <code>not</code> keyword.</li></ul>', 'DIFFICULTY2', '']</text></div>"
      ],
      "text/plain": [
       "<IPython.core.display.HTML object>"
      ]
     },
     "metadata": {},
     "output_type": "display_data"
    },
    {
     "data": {
      "application/vnd.jupyter.widget-view+json": {
       "model_id": "6daba3699332473c89ad36585cde5ce0",
       "version_major": 2,
       "version_minor": 0
      },
      "text/plain": [
       "Maze()"
      ]
     },
     "metadata": {},
     "output_type": "display_data"
    },
    {
     "name": "stdout",
     "output_type": "stream",
     "text": [
      "True\n",
      "True\n",
      "True\n",
      "True\n",
      "True\n",
      "True\n",
      "True\n",
      "True\n",
      "True\n",
      "True\n",
      "True\n",
      "True\n",
      "True\n",
      "True\n",
      "True\n",
      "True\n",
      "True\n",
      "True\n",
      "True\n"
     ]
    },
    {
     "data": {
      "application/vnd.jupyter.widget-view+json": {
       "model_id": "6daba3699332473c89ad36585cde5ce0",
       "version_major": 2,
       "version_minor": 0
      },
      "text/plain": [
       "Maze(current_call='{\"method_name\": \"remove_object\", \"params\": [1, 2], \"cb\": \"608659\"}')"
      ]
     },
     "metadata": {},
     "output_type": "display_data"
    }
   ],
   "source": [
    "def solve(bot):\n",
    "    while not bot.has_object():\n",
    "        bot.move()\n",
    "        print(bot.wall_on_right())\n",
    "        if bot.on_object(\"carrot\"):\n",
    "            bot.pick()\n",
    "        elif bot.wall_on_front(): \n",
    "            bot.turn_left()\n",
    "\n",
    "check(solve)"
   ]
  },
  {
   "cell_type": "code",
   "execution_count": null,
   "metadata": {},
   "outputs": [],
   "source": []
  },
  {
   "cell_type": "code",
   "execution_count": null,
   "metadata": {},
   "outputs": [],
   "source": []
  }
 ],
 "metadata": {
  "kernelspec": {
   "display_name": "Python 3",
   "language": "python",
   "name": "python3"
  },
  "language_info": {
   "codemirror_mode": {
    "name": "ipython",
    "version": 3
   },
   "file_extension": ".py",
   "mimetype": "text/x-python",
   "name": "python",
   "nbconvert_exporter": "python",
   "pygments_lexer": "ipython3",
   "version": "3.8.8"
  }
 },
 "nbformat": 4,
 "nbformat_minor": 4
}
