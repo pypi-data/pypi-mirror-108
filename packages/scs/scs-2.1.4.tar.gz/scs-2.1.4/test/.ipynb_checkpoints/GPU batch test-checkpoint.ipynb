{
 "cells": [
  {
   "cell_type": "code",
   "execution_count": 1,
   "metadata": {},
   "outputs": [],
   "source": [
    "import numpy as np\n",
    "import cvxpy\n",
    "import scipy\n",
    "import scs"
   ]
  },
  {
   "cell_type": "code",
   "execution_count": 2,
   "metadata": {},
   "outputs": [
    {
     "name": "stdout",
     "output_type": "stream",
     "text": [
      "2.1.1\n"
     ]
    }
   ],
   "source": [
    "print(scs.__version__)\n",
    "assert(int(scs.__version__[0]) >= 2)"
   ]
  },
  {
   "cell_type": "code",
   "execution_count": 6,
   "metadata": {},
   "outputs": [
    {
     "name": "stdout",
     "output_type": "stream",
     "text": [
      "writing data to tmp\n",
      "----------------------------------------------------------------------------\n",
      "\tSCS v2.1.1 - Splitting Conic Solver\n",
      "\t(c) Brendan O'Donoghue, Stanford University, 2012\n",
      "----------------------------------------------------------------------------\n",
      "Lin-sys: sparse-indirect GPU, nnz in A = 1500, CG tol ~ 1/iter^(2.00)\n",
      "eps = 1.00e-04, alpha = 1.00, max_iters = 5000, normalize = 1, scale = 1.00\n",
      "acceleration_lookback = 10, rho_x = 1.00e-03\n",
      "Variables n = 100, constraints m = 170\n",
      "Cones:\tlinear vars: 170\n",
      "Setup time: 1.05e-02s\n",
      "----------------------------------------------------------------------------\n",
      " Iter | pri res | dua res | rel gap | pri obj | dua obj | kap/tau | time (s)\n",
      "----------------------------------------------------------------------------\n",
      "     0| 5.77e+19  6.62e+19  1.00e+00 -6.07e+20  2.83e+20  3.34e+20  2.66e-02 \n",
      "   100| 3.38e-03  1.01e-02  1.35e-03  8.23e+00  8.25e+00  1.65e-16  6.49e-01 \n",
      "   200| 6.28e-04  2.23e-03  2.03e-04  8.29e+00  8.29e+00  1.66e-16  1.31e+00 \n",
      "   300| 8.04e-05  4.66e-04  3.27e-05  8.29e+00  8.29e+00  1.66e-16  1.87e+00 \n",
      "   400| 8.10e-05  3.10e-04  6.62e-06  8.29e+00  8.29e+00  1.66e-16  2.40e+00 \n",
      "   500| 7.51e-05  3.98e-04  8.04e-06  8.29e+00  8.29e+00  1.66e-16  2.90e+00 \n",
      "   600| 9.89e-05  4.72e-04  2.30e-05  8.29e+00  8.29e+00  1.66e-16  3.42e+00 \n",
      "   700| 3.72e-05  1.65e-04  1.65e-05  8.29e+00  8.29e+00  1.66e-16  3.97e+00 \n",
      "   780| 2.30e-05  8.94e-05  1.28e-05  8.29e+00  8.29e+00  1.66e-16  4.46e+00 \n",
      "----------------------------------------------------------------------------\n",
      "Status: Solved\n",
      "Timing: Solve time: 4.46e+00s\n",
      "\tLin-sys: avg # CG iterations: 15.91, avg solve time: 5.62e-03s\n",
      "\tCones: avg projection time: 8.39e-07s\n",
      "\tAcceleration: avg step time: 5.45e-05s\n",
      "----------------------------------------------------------------------------\n",
      "Error metrics:\n",
      "dist(s, K) = 1.3366e-16, dist(y, K*) = 0.0000e+00, s'y/|s||y| = -2.2305e-18\n",
      "primal res: |Ax + s - b|_2 / (1 + |b|_2) = 2.2961e-05\n",
      "dual res:   |A'y + c|_2 / (1 + |c|_2) = 8.9408e-05\n",
      "rel gap:    |c'x + b'y| / (1 + |c'x| + |b'y|) = 1.2841e-05\n",
      "----------------------------------------------------------------------------\n",
      "c'x = 8.2920, -b'y = 8.2922\n",
      "============================================================================\n"
     ]
    },
    {
     "data": {
      "text/plain": [
       "8.291986052230623"
      ]
     },
     "execution_count": 6,
     "metadata": {},
     "output_type": "execute_result"
    }
   ],
   "source": [
    "# Random LP\n",
    "np.random.seed(hash('lp') % 2 ** 31)\n",
    "\n",
    "# Dimensions\n",
    "n = 100\n",
    "m = 70\n",
    "\n",
    "A = scipy.sparse.random(m, n, density=0.2, data_rvs = np.random.randn)\n",
    "b = np.random.randn(m)\n",
    "c = np.random.rand(n)\n",
    "\n",
    "# Problem construction\n",
    "x = cvxpy.Variable(n)\n",
    "objective = cvxpy.Minimize(c.T * x)\n",
    "constraints = [x >= 0, A * x <= b]\n",
    "prob = cvxpy.Problem(objective, constraints)\n",
    "\n",
    "#prob.solve(solver='SCS', verbose=True, alpha=1)\n",
    "prob.solve(solver='SCS', verbose=True, alpha=1, gpu=True, use_indirect=True, write_data_filename='tmp')\n"
   ]
  },
  {
   "cell_type": "code",
   "execution_count": 4,
   "metadata": {},
   "outputs": [],
   "source": [
    "d = prob.get_problem_data(solver='SCS')"
   ]
  },
  {
   "cell_type": "code",
   "execution_count": 5,
   "metadata": {},
   "outputs": [],
   "source": [
    "data = d[0]\n",
    "cone = {}\n",
    "cone['l'] = d[0]['dims'].nonpos"
   ]
  },
  {
   "cell_type": "code",
   "execution_count": 6,
   "metadata": {},
   "outputs": [
    {
     "name": "stdout",
     "output_type": "stream",
     "text": [
      "----------------------------------------------------------------------------\n",
      "\tSCS v2.1.1 - Splitting Conic Solver\n",
      "\t(c) Brendan O'Donoghue, Stanford University, 2012\n",
      "----------------------------------------------------------------------------\n",
      "Lin-sys: sparse-direct, nnz in A = 1500\n",
      "eps = 1.00e-05, alpha = 1.00, max_iters = 5000, normalize = 1, scale = 1.00\n",
      "acceleration_lookback = 10, rho_x = 1.00e-03\n",
      "Variables n = 100, constraints m = 170\n",
      "Cones:\tlinear vars: 170\n",
      "Setup time: 1.22e-02s\n",
      "----------------------------------------------------------------------------\n",
      " Iter | pri res | dua res | rel gap | pri obj | dua obj | kap/tau | time (s)\n",
      "----------------------------------------------------------------------------\n",
      "     0| 5.94e+19  6.45e+19  1.00e+00 -7.16e+20  3.53e+20  4.02e+20  5.90e-03 \n",
      "   100| 4.94e-03  2.50e-02  7.67e-05  1.33e+01  1.33e+01  3.03e-18  1.79e-02 \n",
      "   200| 1.04e-03  3.88e-03  3.75e-04  1.33e+01  1.33e+01  2.99e-18  2.96e-02 \n",
      "   300| 1.25e-03  4.74e-03  3.21e-04  1.33e+01  1.33e+01  2.98e-18  4.00e-02 \n",
      "   400| 8.22e-04  3.25e-03  3.15e-05  1.33e+01  1.33e+01  3.00e-18  5.12e-02 \n",
      "   500| 6.84e-04  3.26e-03  1.87e-04  1.34e+01  1.34e+01  3.01e-18  6.00e-02 \n",
      "   600| 1.96e-04  6.53e-04  2.98e-06  1.33e+01  1.33e+01  3.00e-18  6.86e-02 \n",
      "   700| 6.88e-05  3.14e-04  2.48e-05  1.33e+01  1.33e+01  3.00e-18  7.76e-02 \n",
      "   800| 2.60e-05  9.44e-05  1.17e-06  1.33e+01  1.33e+01  3.00e-18  8.57e-02 \n",
      "   900| 5.49e-06  1.84e-05  1.67e-06  1.33e+01  1.33e+01  3.00e-18  9.21e-02 \n",
      "  1000| 2.30e-06  4.81e-06  4.08e-07  1.33e+01  1.33e+01  3.00e-18  9.85e-02 \n",
      "----------------------------------------------------------------------------\n",
      "Status: Solved\n",
      "Timing: Solve time: 9.85e-02s\n",
      "\tLin-sys: nnz in L factor: 4576, avg solve time: 1.79e-05s\n",
      "\tCones: avg projection time: 3.87e-07s\n",
      "\tAcceleration: avg step time: 6.06e-05s\n",
      "----------------------------------------------------------------------------\n",
      "Error metrics:\n",
      "dist(s, K) = 1.9753e-16, dist(y, K*) = 0.0000e+00, s'y/|s||y| = -1.0533e-17\n",
      "primal res: |Ax + s - b|_2 / (1 + |b|_2) = 2.2992e-06\n",
      "dual res:   |A'y + c|_2 / (1 + |c|_2) = 4.8070e-06\n",
      "rel gap:    |c'x + b'y| / (1 + |c'x| + |b'y|) = 4.0848e-07\n",
      "----------------------------------------------------------------------------\n",
      "c'x = 13.3471, -b'y = 13.3471\n",
      "============================================================================\n"
     ]
    }
   ],
   "source": [
    "sol = scs.solve(data, cone, alpha=1)"
   ]
  },
  {
   "cell_type": "code",
   "execution_count": 11,
   "metadata": {},
   "outputs": [
    {
     "name": "stdout",
     "output_type": "stream",
     "text": [
      "writing data to tmp\n",
      "----------------------------------------------------------------------------\n",
      "\tSCS v2.1.1 - Splitting Conic Solver\n",
      "\t(c) Brendan O'Donoghue, Stanford University, 2012\n",
      "----------------------------------------------------------------------------\n",
      "Lin-sys: sparse-indirect GPU, nnz in A = 304000, CG tol ~ 1/iter^(2.00)\n",
      "eps = 1.00e-04, alpha = 1.00, max_iters = 5000, normalize = 1, scale = 1.00\n",
      "acceleration_lookback = 10, rho_x = 1.00e-03\n",
      "Variables n = 2000, constraints m = 2300\n",
      "Cones:\tprimal zero / dual free vars: 300\n",
      "\tlinear vars: 2000\n",
      "Setup time: 4.80e-02s\n",
      "----------------------------------------------------------------------------\n",
      " Iter | pri res | dua res | rel gap | pri obj | dua obj | kap/tau | time (s)\n",
      "----------------------------------------------------------------------------\n",
      "     0| 1.35e+20  1.20e+20  1.00e+00 -5.18e+23  7.61e+20  2.20e+23  4.60e-02 \n",
      "   100| 6.83e-04  1.33e-03  6.40e-04  4.83e+01  4.82e+01  1.01e-15  1.35e+00 \n",
      "   200| 2.55e-04  4.79e-04  3.59e-04  4.84e+01  4.83e+01  1.15e-15  2.71e+00 \n",
      "   280| 1.41e-05  2.33e-05  2.78e-05  4.84e+01  4.84e+01  1.16e-15  3.77e+00 \n",
      "----------------------------------------------------------------------------\n",
      "Status: Solved\n",
      "Timing: Solve time: 3.77e+00s\n",
      "\tLin-sys: avg # CG iterations: 23.36, avg solve time: 1.29e-02s\n",
      "\tCones: avg projection time: 2.88e-06s\n",
      "\tAcceleration: avg step time: 3.93e-04s\n",
      "----------------------------------------------------------------------------\n",
      "Error metrics:\n",
      "dist(s, K) = 6.2502e-16, dist(y, K*) = 0.0000e+00, s'y/|s||y| = 4.5731e-17\n",
      "primal res: |Ax + s - b|_2 / (1 + |b|_2) = 1.4139e-05\n",
      "dual res:   |A'y + c|_2 / (1 + |c|_2) = 2.3312e-05\n",
      "rel gap:    |c'x + b'y| / (1 + |c'x| + |b'y|) = 2.7820e-05\n",
      "----------------------------------------------------------------------------\n",
      "c'x = 48.3954, -b'y = 48.3982\n",
      "============================================================================\n"
     ]
    },
    {
     "data": {
      "text/plain": [
       "48.39543719099415"
      ]
     },
     "execution_count": 11,
     "metadata": {},
     "output_type": "execute_result"
    }
   ],
   "source": [
    "# Basis pursuit\n",
    "np.random.seed(hash('basis-pursuit') % 2 ** 31)\n",
    "\n",
    "n = 1000\n",
    "m = 300\n",
    "x = cvxpy.Variable(n)\n",
    "A = np.random.rand(m, n)\n",
    "x0 = scipy.sparse.rand(n, 1, 0.1)\n",
    "b = np.squeeze(A*x0)\n",
    "\n",
    "prob = cvxpy.Problem(cvxpy.Minimize(cvxpy.norm1(x)), [A*x == b])\n",
    "#prob.solve(solver='SCS', verbose=True)\n",
    "prob.solve(solver='SCS', verbose=True, alpha=1, gpu=True, use_indirect=True, write_data_filename='tmp')"
   ]
  },
  {
   "cell_type": "code",
   "execution_count": 8,
   "metadata": {},
   "outputs": [
    {
     "name": "stdout",
     "output_type": "stream",
     "text": [
      "----------------------------------------------------------------------------\n",
      "\tSCS v2.1.1 - Splitting Conic Solver\n",
      "\t(c) Brendan O'Donoghue, Stanford University, 2012\n",
      "----------------------------------------------------------------------------\n",
      "Lin-sys: Python\n",
      "eps = 1.00e-07, alpha = 1.00, max_iters = 5000, normalize = 1, scale = 1.00\n",
      "acceleration_lookback = 10, rho_x = 1.00e-03\n",
      "Variables n = 100, constraints m = 170\n",
      "Cones:\tlinear vars: 170\n",
      "Setup time: 5.69e-02s\n",
      "----------------------------------------------------------------------------\n",
      " Iter | pri res | dua res | rel gap | pri obj | dua obj | kap/tau | time (s)\n",
      "----------------------------------------------------------------------------\n",
      "     0| 5.94e+19  6.45e+19  1.00e+00 -7.16e+20  3.53e+20  4.02e+20  1.56e-02 \n",
      "   100| 4.94e-03  2.50e-02  7.67e-05  1.33e+01  1.33e+01  2.57e-16  4.04e-02 \n",
      "   200| 1.04e-03  3.88e-03  3.75e-04  1.33e+01  1.33e+01  2.54e-16  5.81e-02 \n",
      "   300| 1.29e-03  4.85e-03  3.19e-04  1.33e+01  1.33e+01  2.53e-16  7.45e-02 \n",
      "   400| 7.84e-04  2.34e-03  2.28e-04  1.33e+01  1.33e+01  2.55e-16  9.85e-02 \n",
      "   500| 5.25e-04  1.51e-03  6.21e-05  1.33e+01  1.33e+01  2.55e-16  1.16e-01 \n",
      "   600| 2.43e-04  8.43e-04  4.25e-06  1.33e+01  1.33e+01  2.55e-16  1.32e-01 \n"
     ]
    },
    {
     "name": "stderr",
     "output_type": "stream",
     "text": [
      "/usr/local/google/home/bodonoghue/miniconda2/envs/python37/lib/python3.7/site-packages/scipy/sparse/linalg/dsolve/linsolve.py:296: SparseEfficiencyWarning: splu requires CSC matrix format\n",
      "  warn('splu requires CSC matrix format', SparseEfficiencyWarning)\n"
     ]
    },
    {
     "name": "stdout",
     "output_type": "stream",
     "text": [
      "   700| 4.36e-05  1.22e-04  8.11e-06  1.33e+01  1.33e+01  2.55e-16  1.51e-01 \n",
      "   800| 2.55e-05  9.57e-05  3.77e-06  1.33e+01  1.33e+01  2.55e-16  1.70e-01 \n",
      "   900| 2.60e-06  9.04e-06  6.41e-07  1.33e+01  1.33e+01  2.55e-16  1.89e-01 \n",
      "  1000| 7.90e-07  3.27e-06  1.22e-07  1.33e+01  1.33e+01  2.55e-16  2.06e-01 \n",
      "  1100| 2.80e-07  1.06e-06  5.21e-08  1.33e+01  1.33e+01  2.55e-16  2.26e-01 \n",
      "  1200| 4.07e-08  2.08e-07  7.92e-09  1.33e+01  1.33e+01  2.55e-16  2.43e-01 \n",
      "  1260| 1.78e-08  6.52e-08  3.34e-09  1.33e+01  1.33e+01  2.55e-16  2.53e-01 \n",
      "----------------------------------------------------------------------------\n",
      "Status: Solved\n",
      "Timing: Solve time: 2.53e-01s\n",
      "\tLin-sys: avg solve time: 9.23e-05s\n",
      "\tCones: avg projection time: 4.09e-07s\n",
      "\tAcceleration: avg step time: 6.62e-05s\n",
      "----------------------------------------------------------------------------\n",
      "Error metrics:\n",
      "dist(s, K) = 2.2691e-16, dist(y, K*) = 0.0000e+00, s'y/|s||y| = -2.5612e-18\n",
      "primal res: |Ax + s - b|_2 / (1 + |b|_2) = 1.7780e-08\n",
      "dual res:   |A'y + c|_2 / (1 + |c|_2) = 6.5221e-08\n",
      "rel gap:    |c'x + b'y| / (1 + |c'x| + |b'y|) = 3.3369e-09\n",
      "----------------------------------------------------------------------------\n",
      "c'x = 13.3471, -b'y = 13.3471\n",
      "============================================================================\n"
     ]
    }
   ],
   "source": [
    "import platform\n",
    "import scipy.sparse as sp\n",
    "import scipy.sparse.linalg as sla\n",
    "\n",
    "A = data['A']\n",
    "m, n = A.shape\n",
    "Msolve = None\n",
    "\n",
    "def init_lin_sys_work_cb(rho):\n",
    "    global Msolve, m, n, A\n",
    "    M = sp.bmat([[rho*sp.eye(n), A.T], [A, -sp.eye(m)]])\n",
    "    Msolve = sla.factorized(M)\n",
    "\n",
    "def solve_lin_sys_cb(b, s, i):\n",
    "    global Msolve\n",
    "    b[:] = Msolve(b)\n",
    "\n",
    "def accum_by_a_cb(x, y):\n",
    "    global A\n",
    "    y += A.dot(x)\n",
    "\n",
    "def accum_by_atrans_cb(x, y):\n",
    "    global A\n",
    "    y += A.T.dot(x)\n",
    "\n",
    "def normalize_a_cb(boundaries, scale):\n",
    "    global A, m, n\n",
    "\n",
    "    D_all = np.ones(m)\n",
    "    E_all = np.ones(n)\n",
    "\n",
    "    min_scale, max_scale = (1e-4, 1e4)\n",
    "    n_passes = 10\n",
    "\n",
    "    for i in range(n_passes):\n",
    "        D = np.sqrt(sla.norm(A, float('inf'), axis=1))\n",
    "        E = np.sqrt(sla.norm(A, float('inf'), axis=0))\n",
    "        D[D < min_scale] = 1.0\n",
    "        E[E < min_scale] = 1.0\n",
    "        D[D > max_scale] = max_scale\n",
    "        E[E > max_scale] = max_scale\n",
    "        start = boundaries[0]\n",
    "        for delta in boundaries[1:]:\n",
    "            D[start:start+delta] = D[start:start+delta].mean()\n",
    "            start += delta\n",
    "        A = sp.diags(1/D).dot(A).dot(sp.diags(1/E))\n",
    "        D_all *= D\n",
    "        E_all *= E\n",
    "\n",
    "    mean_row_norm = sla.norm(A, 2, axis=1).mean()\n",
    "    mean_col_norm = sla.norm(A, 2, axis=0).mean()\n",
    "    A *= scale\n",
    "\n",
    "    return D_all, E_all, mean_row_norm, mean_col_norm\n",
    "\n",
    "def un_normalize_a_cb(D, E, scale):\n",
    "    global A\n",
    "    A = sp.diags(D).dot(A).dot(sp.diags(E))/scale\n",
    "\n",
    "sol = scs.solve(\n",
    "    data, cone, verbose=True, normalize=True, alpha=1.,\n",
    "    linsys_cbs=(\n",
    "        init_lin_sys_work_cb,\n",
    "        solve_lin_sys_cb, accum_by_a_cb, accum_by_atrans_cb,\n",
    "        normalize_a_cb, un_normalize_a_cb,\n",
    "    ),\n",
    "    max_iters=int(5e3), eps=1e-7,\n",
    ")\n"
   ]
  },
  {
   "cell_type": "code",
   "execution_count": 9,
   "metadata": {},
   "outputs": [
    {
     "name": "stdout",
     "output_type": "stream",
     "text": [
      "----------------------------------------------------------------------------\n",
      "\tSCS v2.1.1 - Splitting Conic Solver\n",
      "\t(c) Brendan O'Donoghue, Stanford University, 2012\n",
      "----------------------------------------------------------------------------\n",
      "Lin-sys: sparse-direct, nnz in A = 1500\n",
      "eps = 1.00e-07, alpha = 1.00, max_iters = 5000, normalize = 1, scale = 1.00\n",
      "acceleration_lookback = 10, rho_x = 1.00e-03\n",
      "Variables n = 100, constraints m = 170\n",
      "Cones:\tlinear vars: 170\n",
      "Setup time: 1.30e-02s\n",
      "----------------------------------------------------------------------------\n",
      " Iter | pri res | dua res | rel gap | pri obj | dua obj | kap/tau | time (s)\n",
      "----------------------------------------------------------------------------\n",
      "     0| 5.94e+19  6.45e+19  1.00e+00 -7.16e+20  3.53e+20  4.02e+20  2.42e-03 \n",
      "   100| 4.94e-03  2.50e-02  7.67e-05  1.33e+01  1.33e+01  3.03e-18  2.00e-02 \n",
      "   200| 1.04e-03  3.88e-03  3.75e-04  1.33e+01  1.33e+01  2.99e-18  2.68e-02 \n",
      "   300| 1.25e-03  4.74e-03  3.21e-04  1.33e+01  1.33e+01  2.98e-18  3.66e-02 \n",
      "   400| 8.22e-04  3.25e-03  3.15e-05  1.33e+01  1.33e+01  3.00e-18  4.49e-02 \n",
      "   500| 6.84e-04  3.26e-03  1.87e-04  1.34e+01  1.34e+01  3.01e-18  5.21e-02 \n",
      "   600| 1.96e-04  6.53e-04  2.98e-06  1.33e+01  1.33e+01  3.00e-18  5.96e-02 \n",
      "   700| 6.88e-05  3.14e-04  2.48e-05  1.33e+01  1.33e+01  3.00e-18  6.73e-02 \n",
      "   800| 2.60e-05  9.44e-05  1.17e-06  1.33e+01  1.33e+01  3.00e-18  7.82e-02 \n",
      "   900| 5.49e-06  1.84e-05  1.67e-06  1.33e+01  1.33e+01  3.00e-18  8.72e-02 \n",
      "  1000| 2.30e-06  4.81e-06  4.08e-07  1.33e+01  1.33e+01  3.00e-18  9.50e-02 \n",
      "  1100| 3.76e-07  1.59e-06  3.61e-08  1.33e+01  1.33e+01  3.00e-18  1.02e-01 \n",
      "  1200| 3.69e-08  1.41e-07  3.09e-09  1.33e+01  1.33e+01  3.00e-18  1.14e-01 \n",
      "  1280| 2.96e-08  9.80e-08  1.38e-08  1.33e+01  1.33e+01  3.00e-18  1.20e-01 \n",
      "----------------------------------------------------------------------------\n",
      "Status: Solved\n",
      "Timing: Solve time: 1.20e-01s\n",
      "\tLin-sys: nnz in L factor: 4576, avg solve time: 1.97e-05s\n",
      "\tCones: avg projection time: 3.85e-07s\n",
      "\tAcceleration: avg step time: 5.79e-05s\n",
      "----------------------------------------------------------------------------\n",
      "Error metrics:\n",
      "dist(s, K) = 1.9753e-16, dist(y, K*) = 0.0000e+00, s'y/|s||y| = -1.0533e-17\n",
      "primal res: |Ax + s - b|_2 / (1 + |b|_2) = 2.9608e-08\n",
      "dual res:   |A'y + c|_2 / (1 + |c|_2) = 9.8049e-08\n",
      "rel gap:    |c'x + b'y| / (1 + |c'x| + |b'y|) = 1.3765e-08\n",
      "----------------------------------------------------------------------------\n",
      "c'x = 13.3471, -b'y = 13.3471\n",
      "============================================================================\n"
     ]
    }
   ],
   "source": [
    "sol = scs.solve(data, cone, alpha=1, normalize=True, eps=1e-7)"
   ]
  }
 ],
 "metadata": {
  "kernelspec": {
   "display_name": "Python 3",
   "language": "python",
   "name": "python3"
  },
  "language_info": {
   "codemirror_mode": {
    "name": "ipython",
    "version": 3
   },
   "file_extension": ".py",
   "mimetype": "text/x-python",
   "name": "python",
   "nbconvert_exporter": "python",
   "pygments_lexer": "ipython3",
   "version": "3.7.3"
  }
 },
 "nbformat": 4,
 "nbformat_minor": 2
}
