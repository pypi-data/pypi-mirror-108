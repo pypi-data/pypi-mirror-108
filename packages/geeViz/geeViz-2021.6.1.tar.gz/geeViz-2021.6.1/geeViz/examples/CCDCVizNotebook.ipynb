{
 "cells": [
  {
   "cell_type": "code",
   "execution_count": 9,
   "id": "e57ee268",
   "metadata": {},
   "outputs": [
    {
     "name": "stdout",
     "output_type": "stream",
     "text": [
      "done\n"
     ]
    }
   ],
   "source": [
    "#Example of how to visualize CCDC outputs using the Python visualization tools\n",
    "#Adds change products and fitted harmonics from CCDC output to the viewer\n",
    "#The general workflow for CCDC is to run the CCDCWrapper.py script, and then either utilize the harmonic model for a given date\n",
    "#or to use the breaks for change detection. All of this is demonstrated in this example\n",
    "####################################################################################################\n",
    "import os,sys\n",
    "sys.path.append(os.getcwd())\n",
    "\n",
    "#Module imports\n",
    "from  geeViz.getImagesLib import *\n",
    "from geeViz.changeDetectionLib import *\n",
    "Map.clearMap()\n",
    "####################################################################################################\n",
    "#Bring in ccdc image asset\n",
    "#This is assumed to be an image of arrays that is returned from the ee.Algorithms.TemporalSegmentation.Ccdc method\n",
    "ccdcImg = ee.ImageCollection(\"projects/CCDC/USA_V2\")\\\n",
    "          .filter(ee.Filter.eq('spectral', 'SR')).mosaic()\n",
    "\n",
    "#Specify which harmonics to use when predicting the CCDC model\n",
    "#CCDC exports the first 3 harmonics (1 cycle/yr, 2 cycles/yr, and 3 cycles/yr)\n",
    "#If you only want to see yearly patterns, specify [1]\n",
    "#If you would like a tighter fit in the predicted value, include the second or third harmonic as well [1,2,3]\n",
    "whichHarmonics = [1,2,3]\n",
    "\n",
    "#Whether to fill gaps between segments' end year and the subsequent start year to the break date\n",
    "fillGaps = False\n",
    "\n",
    "#Specify which band to use for loss and gain. \n",
    "#This is most important for the loss and gain magnitude since the year of change will be the same for all years\n",
    "changeDetectionBandName = 'NDVI'\n",
    "####################################################################################################\n",
    "#Pull out some info about the ccdc image\n",
    "startJulian = 1\n",
    "endJulian = 365\n",
    "startYear = 1984\n",
    "endYear = 2020\n",
    "print('done')"
   ]
  },
  {
   "cell_type": "code",
   "execution_count": 10,
   "id": "26bdb396",
   "metadata": {},
   "outputs": [
    {
     "name": "stdout",
     "output_type": "stream",
     "text": [
      "Adding layer: Raw CCDC Output\n",
      "Starting webmap\n",
      "Local web server at: http://localhost:8005/geeView/ already serving.\n",
      "Refresh browser instance\n"
     ]
    },
    {
     "data": {
      "text/html": [
       "\n",
       "        <iframe\n",
       "            width=\"100%\"\n",
       "            height=\"500px\"\n",
       "            src=\"http://localhost:8005/geeView/\"\n",
       "            frameborder=\"0\"\n",
       "            allowfullscreen\n",
       "        ></iframe>\n",
       "        "
      ],
      "text/plain": [
       "<IPython.lib.display.IFrame at 0x1d3f73fc6a0>"
      ]
     },
     "execution_count": 10,
     "metadata": {},
     "output_type": "execute_result"
    }
   ],
   "source": [
    "Map.clearMap()\n",
    "#Add the raw array image\n",
    "Map.addLayer(ccdcImg,{},'Raw CCDC Output',True)\n",
    "Map.centerObject(ccdcImg)\n",
    "Map.turnOnInspector()\n",
    "Map.view(False,True)\n",
    "Map.IFrame\n",
    "#Double click on map to see raw CCDC output image array values"
   ]
  },
  {
   "cell_type": "code",
   "execution_count": 11,
   "id": "194029e4",
   "metadata": {},
   "outputs": [
    {
     "name": "stdout",
     "output_type": "stream",
     "text": [
      "Adding layer: Loss Year\n",
      "Adding layer: Loss Mag\n",
      "Adding layer: Gain Year\n",
      "Adding layer: Gain Mag\n",
      "Starting webmap\n",
      "Local web server at: http://localhost:8005/geeView/ already serving.\n",
      "Refresh browser instance\n"
     ]
    },
    {
     "data": {
      "text/html": [
       "\n",
       "        <iframe\n",
       "            width=\"100%\"\n",
       "            height=\"500px\"\n",
       "            src=\"http://localhost:8005/geeView/\"\n",
       "            frameborder=\"0\"\n",
       "            allowfullscreen\n",
       "        ></iframe>\n",
       "        "
      ],
      "text/plain": [
       "<IPython.lib.display.IFrame at 0x1d3f53e8e50>"
      ]
     },
     "execution_count": 11,
     "metadata": {},
     "output_type": "execute_result"
    }
   ],
   "source": [
    "Map.clearMap()\n",
    "#Extract the change years and magnitude\n",
    "changeObj = ccdcChangeDetection(ccdcImg,changeDetectionBandName);\n",
    "Map.addLayer(changeObj['highestMag']['loss']['year'],{'min':startYear,'max':endYear,'palette':lossYearPalette},'Loss Year')\n",
    "Map.addLayer(changeObj['highestMag']['loss']['mag'],{'min':-0.5,'max':-0.1,'palette':lossMagPalette},'Loss Mag',False);\n",
    "Map.addLayer(changeObj['highestMag']['gain']['year'],{'min':startYear,'max':endYear,'palette':gainYearPalette},'Gain Year');\n",
    "Map.addLayer(changeObj['highestMag']['gain']['mag'],{'min':0.05,'max':0.2,'palette':gainMagPalette},'Gain Mag',False);\n",
    "\n",
    "Map.turnOnInspector()\n",
    "Map.view(False,True)\n",
    "Map.IFrame\n",
    "#Double click on map to see raw years of loss and gain breaks"
   ]
  },
  {
   "cell_type": "code",
   "execution_count": 7,
   "id": "4a8031fe",
   "metadata": {},
   "outputs": [
    {
     "name": "stdout",
     "output_type": "stream",
     "text": [
      "Adding layer: Fitted CCDC\n",
      "Starting webmap\n",
      "Local web server at: http://localhost:8005/geeView/ already serving.\n",
      "Refresh browser instance\n"
     ]
    },
    {
     "data": {
      "text/html": [
       "\n",
       "        <iframe\n",
       "            width=\"100%\"\n",
       "            height=\"500px\"\n",
       "            src=\"http://localhost:8005/geeView/\"\n",
       "            frameborder=\"0\"\n",
       "            allowfullscreen\n",
       "        ></iframe>\n",
       "        "
      ],
      "text/plain": [
       "<IPython.lib.display.IFrame at 0x1d3f541a370>"
      ]
     },
     "execution_count": 7,
     "metadata": {},
     "output_type": "execute_result"
    }
   ],
   "source": [
    "Map.clearMap()\n",
    "#Apply the CCDC harmonic model across a time series\n",
    "#First get a time series of time images \n",
    "yearImages = getTimeImageCollection(startYear,endYear,startJulian,endJulian,0.1);\n",
    "\n",
    "#Then predict the CCDC models\n",
    "fitted = predictCCDC(ccdcImg,yearImages,fillGaps,whichHarmonics)\n",
    "Map.addLayer(fitted.select(['.*_predicted']),{'opacity':0},'Fitted CCDC',True);\n",
    "\n",
    "Map.turnOnInspector()\n",
    "Map.view(False,True)\n",
    "Map.IFrame\n",
    "\n",
    "#Double click on map to see fitted CCDC time series"
   ]
  }
 ],
 "metadata": {
  "kernelspec": {
   "display_name": "Python 3",
   "language": "python",
   "name": "python3"
  },
  "language_info": {
   "codemirror_mode": {
    "name": "ipython",
    "version": 3
   },
   "file_extension": ".py",
   "mimetype": "text/x-python",
   "name": "python",
   "nbconvert_exporter": "python",
   "pygments_lexer": "ipython3",
   "version": "3.8.3"
  }
 },
 "nbformat": 4,
 "nbformat_minor": 5
}
