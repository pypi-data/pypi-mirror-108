{
 "cells": [
  {
   "cell_type": "markdown",
   "metadata": {},
   "source": [
    "# `JSONASOBJ2`\n",
    "An extension to the python `json` library that represents the JSON as a first class python object rather than a straight dictionary. Contents can still be accessed using dictionary format.\n",
    "\n",
    "\n",
    "## Introduction\n",
    "\n",
    "This is an extension to the python *json* library that represents the JSON\n",
    "as a first class python object rather than a straight\n",
    "dictionary.  Contents can still be accessed using dictionary format.\n",
    "\n",
    "---\n",
    "## Requirements\n",
    "\n",
    "* Python (3.6 or later)\n",
    "\n",
    "## Installation\n",
    "\n",
    "```bash\n",
    "pip install jsonasobj2\n",
    "```\n",
    "\n",
    "## Short Example\n",
    "--------------\n",
    "\n"
   ]
  },
  {
   "cell_type": "code",
   "execution_count": 14,
   "metadata": {},
   "outputs": [],
   "source": [
    "!pip install -q  .."
   ]
  },
  {
   "cell_type": "code",
   "execution_count": 15,
   "metadata": {},
   "outputs": [
    {
     "name": "stdout",
     "output_type": "stream",
     "text": [
      "Markus Lanthaler\n",
      "Markus Lanthaler\n",
      "Dave Longley\n",
      "http://xmlns.com/foaf/0.1/name\n",
      "{\n",
      "   \"@context\": {\n",
      "      \"name\": \"http://xmlns.com/foaf/0.1/name\",\n",
      "      \"knows\": \"http://xmlns.com/foaf/0.1/knows\",\n",
      "      \"menu\": {\n",
      "         \"@id\": \"name:foo\",\n",
      "         \"@type\": \"@id\"\n",
      "      }\n",
      "   },\n",
      "   \"@id\": \"http://me.markus-lanthaler.com/\",\n",
      "   \"name\": \"Markus Lanthaler\",\n",
      "   \"knows\": [\n",
      "      {\n",
      "         \"name\": \"Dave Longley\",\n",
      "         \"modelDate\": \"01/01/2015\",\n",
      "         \"extra\": {\n",
      "            \"age\": 17\n",
      "         }\n",
      "      },\n",
      "      {\n",
      "         \"name\": \"Barack Obama\"\n",
      "      }\n",
      "   ]\n",
      "}\n",
      "{'@context': {'knows': 'http://xmlns.com/foaf/0.1/knows',\n",
      "              'menu': {'@id': 'name:foo', '@type': '@id'},\n",
      "              'name': 'http://xmlns.com/foaf/0.1/name'},\n",
      " '@id': 'http://me.markus-lanthaler.com/',\n",
      " 'knows': [{'extra': {'age': 17},\n",
      "            'modelDate': '01/01/2015',\n",
      "            'name': 'Dave Longley'},\n",
      "           {'name': 'Barack Obama'}],\n",
      " 'name': 'Markus Lanthaler'}\n"
     ]
    }
   ],
   "source": [
    "import jsonasobj2\n",
    "from pprint import PrettyPrinter\n",
    "pp = PrettyPrinter().pprint\n",
    "\n",
    "test_json = \"\"\"{\n",
    "  \"@context\": {\n",
    "    \"name\": \"http://xmlns.com/foaf/0.1/name\",\n",
    "    \"knows\": \"http://xmlns.com/foaf/0.1/knows\",\n",
    "    \"menu\": {\n",
    "      \"@id\": \"name:foo\",\n",
    "      \"@type\": \"@id\"\n",
    "    }\n",
    "  },\n",
    "  \"@id\": \"http://me.markus-lanthaler.com/\",\n",
    "  \"name\": \"Markus Lanthaler\",\n",
    "  \"knows\": [\n",
    "    {\n",
    "      \"name\": \"Dave Longley\",\n",
    "      \"menu\": \"something\",\n",
    "      \"modelDate\" : \"01/01/2015\"\n",
    "    }\n",
    "  ]\n",
    "}\"\"\"\n",
    "\n",
    "py_obj = jsonasobj.loads(test_json)\n",
    "py_obj.knows[0].extra = {'age': 17}\n",
    "py_obj.knows.append(dict(name='Barack Obama'))\n",
    "del py_obj.knows[0]['menu']\n",
    "print(py_obj.name)\n",
    "print(py_obj['name'])\n",
    "print(py_obj.knows[0].name)\n",
    "print(py_obj['@context'].name)\n",
    "print(jsonasobj.as_json(py_obj))\n",
    "pp(jsonasobj.as_dict(py_obj))\n"
   ]
  },
  {
   "cell_type": "markdown",
   "metadata": {
    "collapsed": true
   },
   "source": [
    "# Usage notes\n",
    "JsonObj exposes all properties in the model that don't begin with a `\"_\"`, which prevents it from behaving like a real dictionary.  This means:\n",
    "\n",
    "1) The dictionary methods, `list()`, `len()`, `iter()`, `clear()`, `copy()`, `get()`, `items()`, `keys()`, `pop()`, `popitem()`, `reversed()`, `setdefault()`, `update()`, and `values()` along with some of the special operations (`del`, `|`, `|=`) can not be directly exposed.\n",
    "\n",
    "2) _Because_ these methods can't be exposed, the call `isinstance(obj, dict)` returns `False`.  Use the following instead:"
   ]
  },
  {
   "cell_type": "code",
   "execution_count": 18,
   "metadata": {},
   "outputs": [
    {
     "name": "stdout",
     "output_type": "stream",
     "text": [
      "False\n",
      "True\n"
     ]
    }
   ],
   "source": [
    "from jsonasobj2 import JsonObj, as_dict, as_json\n",
    "\n",
    "sample = JsonObj(name=\"Fred\", age=42)\n",
    "print(isinstance(sample, dict))\n",
    "print(isinstance(sample, (dict, JsonObj)))"
   ]
  },
  {
   "cell_type": "code",
   "execution_count": 20,
   "metadata": {},
   "outputs": [
    {
     "name": "stdout",
     "output_type": "stream",
     "text": [
      "False\n",
      "True\n",
      "[{'name': 'John', 'age': 12}, 'pint of milk']\n",
      "[\n",
      "   {\n",
      "      \"name\": \"John\",\n",
      "      \"age\": 12\n",
      "   },\n",
      "   \"pint of milk\"\n",
      "]\n"
     ]
    }
   ],
   "source": [
    "# Lists exhibit much the same behavior\n",
    "sample2 = JsonObj([dict(name=\"John\", age=12), \"pint of milk\"])\n",
    "print(isinstance(sample2, list))\n",
    "print(isinstance(sample2, (list, JsonObj)))\n",
    "print(str(as_dict(sample2)))\n",
    "print(as_json(sample2))"
   ]
  },
  {
   "cell_type": "markdown",
   "metadata": {},
   "source": [
    "\n",
    "## Wrapper methods\n",
    "\n",
    "We have attempted to mitigate this issue with the following methods:\n",
    "\n",
    "__as_dict(obj: Union[JsonObj, List]) -> Union[List, Dict[str, JsonTypes]]::__\n",
    "\n",
    "    Returns obj as a dict or list (Note that a json object can also be a list)\n",
    " \n",
    " \n",
    "__as_json(obj: Union[Dict, JsonObj, List], indent: Optional[str] = '   ', filtr: Callable[[Dict], Dict] = None, **kwargs) -> str:__\n",
    "          \n",
    "    Returns obj as a JSON String\n",
    "   \n",
    "   \n",
    "__as_json_obj(obj: Union[Dict, JsonObj, List]) -> JsonTypes:__\n",
    "\n",
    "    Returns obj as a pure _json_ object\n",
    "    \n",
    "    \n",
    "The following methods directly address some, but not all, of the methods above.  If a wrapper isn't available, use `as_dict(obj).method()`\n",
    "\n",
    "__get(obj: Union[Dict, JsonObj], item: str, default: JsonObjTypes = None) -> JsonObjTypes:__\n",
    "\n",
    "    Same as obj.get(item, default)\n",
    "    \n",
    "    \n",
    "__setdefault(obj: Union[Dict, JsonObj], k: str, value: Union[Dict, JsonTypes]) -> JsonObjTypes:__\n",
    "\n",
    "    Same as obj.setdefault(k, value)\n",
    "\n",
    "\n",
    "__keys(obj: Union[Dict, JsonObj]) -> Iterator[str]:__\n",
    "\n",
    "    Same as obj.keys()\n",
    "\n",
    "\n",
    "__items(obj: Union[Dict, JsonObj]) -> Iterator[Tuple[str, JsonObjTypes]]:__\n",
    "\n",
    "    Same as obj.items()\n",
    "\n",
    "\n",
    "__values(obj: Union[Dict, JsonObj]) -> Iterator[JsonObjTypes]:__\n",
    "\n",
    "    Same as obj.values()"
   ]
  },
  {
   "cell_type": "code",
   "execution_count": null,
   "metadata": {},
   "outputs": [],
   "source": []
  }
 ],
 "metadata": {
  "kernelspec": {
   "display_name": "Python 3",
   "language": "python",
   "name": "python3"
  },
  "language_info": {
   "codemirror_mode": {
    "name": "ipython",
    "version": 3
   },
   "file_extension": ".py",
   "mimetype": "text/x-python",
   "name": "python",
   "nbconvert_exporter": "python",
   "pygments_lexer": "ipython3",
   "version": "3.9.4"
  }
 },
 "nbformat": 4,
 "nbformat_minor": 2
}
